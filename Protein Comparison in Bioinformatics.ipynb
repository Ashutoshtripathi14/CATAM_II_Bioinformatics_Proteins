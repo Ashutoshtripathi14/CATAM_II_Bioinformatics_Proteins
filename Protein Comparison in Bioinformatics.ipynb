{
 "cells": [
  {
   "cell_type": "code",
   "execution_count": 1,
   "id": "35b8e14c",
   "metadata": {},
   "outputs": [],
   "source": [
    "import math\n",
    "import numpy as np\n",
    "import random"
   ]
  },
  {
   "cell_type": "code",
   "execution_count": 47,
   "id": "fc96c89a",
   "metadata": {},
   "outputs": [],
   "source": [
    "#==========\n",
    "#start of def\n",
    "\n",
    "def s(Si,Tj):\n",
    "    if(Si==Tj):\n",
    "        return 0\n",
    "    else:\n",
    "        return 1\n",
    "\n",
    "#end of def\n",
    "#==========\n",
    "#start of def\n",
    "\n",
    "def edit_distance(S,T):\n",
    "    m=len(S)\n",
    "    n=len(T)\n",
    "    D=[[0 for j in range(n+1)]for i in range(m+1)]\n",
    "    D[0][0]= 0\n",
    "    for i in range(1,m+1):\n",
    "        D[i][0]=i\n",
    "    for j in range(1,n+1):\n",
    "        D[0][j]=j\n",
    "    for i in range(1,m+1):\n",
    "        for j in range(1,n+1):\n",
    "            D[i][j]=min(min(D[i][j-1]+1,D[i-1][j]+1),s(S[i-1], T[j-1])+D[i-1][j-1])\n",
    "    return D[m][n]\n",
    "#Complexity of this is O(nm)\n",
    "\n",
    "#end of def\n",
    "#==========\n",
    "#start of def\n",
    "\n",
    "def convert_edit_sequence_to_alignment(S,T,pointers):\n",
    "    m=len(S)\n",
    "    n=len(T)\n",
    "    i=m\n",
    "    j=n\n",
    "    str1=''\n",
    "    str2=''\n",
    "    str_match=''\n",
    "    while(i>0 or j>0):\n",
    "        if(pointers[i][j]=='D'):\n",
    "            str1=S[i-1]+str1\n",
    "            str2=T[j-1]+str2\n",
    "            if(S[i-1]==T[j-1]):\n",
    "                str_match='M'+str_match\n",
    "            else:\n",
    "                str_match='R'+str_match\n",
    "            i-=1\n",
    "            j-=1\n",
    "        elif(pointers[i][j]=='L'):\n",
    "            str1=' '+str1\n",
    "            str2=T[j-1]+str2\n",
    "            str_match='I'+str_match\n",
    "            j-=1\n",
    "        else:\n",
    "            str1=S[i-1]+str1\n",
    "            str2=' '+str2\n",
    "            str_match='D'+str_match\n",
    "            i-=1\n",
    "    print(str_match)\n",
    "    print(str1)\n",
    "    print(str2)\n",
    "    return str1, str2\n",
    "        \n",
    "\n",
    "#end of def \n",
    "#==========\n",
    "#start of def\n",
    "\n",
    "def convert_alignment_into_steps(str1, str2):\n",
    "    pos=1\n",
    "    step=1\n",
    "    for i in range(len(str1)):\n",
    "        if(step>50):\n",
    "            break\n",
    "        if(str1[i]==' '):\n",
    "            print(\"\\\"Step \"+ str(step)+ \" : Insert \"+ str(str2[i])+\"\\\"\")\n",
    "            step+=1\n",
    "            pos+=1\n",
    "        elif(str2[i]==' '):\n",
    "            print(\"\\\"Step \"+ str(step)+ \" : Delete \"+ str(str1[i])+\"\\\"\")\n",
    "            step+=1\n",
    "        elif(str1[i]!=str2[i]):\n",
    "            print(\"\\\"Step \"+ str(step)+ \" : Replace \"+ str(str1[i])+\" with \"+str(str2[i])+\"\\\"\")\n",
    "            step+=1\n",
    "            pos+=1\n",
    "        else:\n",
    "            print(\"\\\"Step \"+ str(step)+\" : Match \"+ str(str1[i])+\"\\\"\")\n",
    "            step+=1\n",
    "            pos+=1\n",
    "        print()\n",
    "\n",
    "#end of def \n",
    "#==========\n",
    "#start of def\n",
    "\n",
    "def edit_distance_with_pointer(S,T):\n",
    "    m=len(S)\n",
    "    n=len(T)\n",
    "    D=[[0 for j in range(n+1)]for i in range(m+1)]\n",
    "    pointers=[['' for j in range(n+1)] for i in range(m+1)]\n",
    "    D[0][0]= 0\n",
    "    for i in range(m+1):\n",
    "        D[i][0]=i\n",
    "        pointers[i][0]='U'\n",
    "    for j in range(1,n+1):\n",
    "        D[0][j]=j\n",
    "        pointers[0][j]='L'\n",
    "    for i in range(1,m+1):\n",
    "        for j in range(1,n+1):\n",
    "            D[i][j]=min(min(D[i][j-1]+1,D[i-1][j]+1),s(S[i-1], T[j-1])+D[i-1][j-1]) \n",
    "            if(i==1 and j==1):\n",
    "                pointers[i][j]='D'\n",
    "            elif(D[i][j]==D[i-1][j]+1):\n",
    "                pointers[i][j]='U'\n",
    "            elif(D[i][j]==D[i][j-1]+1):\n",
    "                pointers[i][j]='L'\n",
    "            else:\n",
    "                pointers[i][j]='D'\n",
    "    print(D[m][n])\n",
    "    print(\"=====\")\n",
    "    str1, str2 = convert_edit_sequence_to_alignment(S,T,pointers)\n",
    "    print(\"=====\")\n",
    "    convert_alignment_into_steps(str1, str2)\n",
    "    \n",
    "\n",
    "\n",
    "#end of def \n",
    "#==========\n",
    "#start of def\n",
    "\n",
    "def ParseProteinsTxt():\n",
    "    '''\n",
    "    This is a simple function to parse the Fasta files and return the amino acid sequence it reads.\n",
    "    '''\n",
    "    file_location='II-9-3-2022-proteins.txt'\n",
    "    dict_of_sequences={}\n",
    "    sequence_curr=\"\"\n",
    "    curr_sequence_name=\"\"\n",
    "    with open(file_location, \"r\") as fh:\n",
    "        for line in fh:\n",
    "            if(line.startswith(\"Protein\")):\n",
    "                curr_line=''.join(list(line))\n",
    "                curr_sequence_name=curr_line[-2]\n",
    "                dict_of_sequences[curr_sequence_name]=\"\"\n",
    "            elif(line.startswith(\"#\")):\n",
    "                if(sequence_curr!=\"\"):\n",
    "                    dict_of_sequences[curr_sequence_name]=sequence_curr\n",
    "                sequence_curr=\"\"\n",
    "                curr_sequence_name=\"\"\n",
    "            else:\n",
    "                seq_on_line = ''.join(list(line))\n",
    "                seq_on_line=seq_on_line[:-1]\n",
    "                sequence_curr+=seq_on_line\n",
    "    return dict_of_sequences\n",
    "\n",
    "#end of def \n",
    "#==========\n",
    "#start of def\n",
    "\n",
    "def ParseBLOSUM():\n",
    "    file_location='II-9-3-2022-blosum.txt'\n",
    "    blosum_matrix={}\n",
    "    with open(file_location, \"r\") as fh:\n",
    "        count=0\n",
    "        aa_list=\"\"\n",
    "        for line in fh:\n",
    "                if(count==0):\n",
    "                    seq_on_line = ''.join(list(line.split(' ')))\n",
    "                    seq_on_line=seq_on_line[:-1]\n",
    "                    aa_list=seq_on_line\n",
    "                else:\n",
    "                    seq_on_line = ''.join(list(line))\n",
    "                    seq_on_line=seq_on_line[:-1]\n",
    "                    if(len(seq_on_line)>0):\n",
    "                        nums_temp_=line[1:-1].split(' ')\n",
    "                        nums_temp=[]\n",
    "                        for curr_rem in nums_temp_:\n",
    "                            if(len(curr_rem)!=0):\n",
    "                                nums_temp.append(curr_rem)\n",
    "                        nums=[int(n) for n in nums_temp]\n",
    "                        curr_AA_row=seq_on_line[0]\n",
    "                        for i in range(len(aa_list)): \n",
    "                            blosum_matrix[(curr_AA_row,aa_list[i])]=nums[i]\n",
    "                count+=1\n",
    "    return blosum_matrix\n",
    "\n",
    "#end of def\n",
    "#==========\n",
    "#start of def\n",
    "\n",
    "def new_s(Si,Tj):\n",
    "    return blosum_matrix[(Si,Tj)]\n",
    "\n",
    "#end of def\n",
    "#==========\n",
    "#start of def\n",
    "\n",
    "def max_score_with_scoring_matrix(S,T):\n",
    "    m=len(S)\n",
    "    n=len(T)\n",
    "    D=[['' for j in range(n+1)]for i in range(m+1)]\n",
    "    pointers=[['' for j in range(n+1)] for i in range(m+1)]\n",
    "    D[0][0]= 0\n",
    "    for i in range(m+1):\n",
    "        D[i][0]=i*-8\n",
    "        pointers[i][0]='U'\n",
    "    for j in range(1,n+1):\n",
    "        D[0][j]=j*-8\n",
    "        pointers[0][j]='L'\n",
    "    for i in range(1,m+1):\n",
    "        for j in range(1,n+1):\n",
    "            D[i][j]=max(max(D[i][j-1]-8,D[i-1][j]-8),new_s(S[i-1], T[j-1])+D[i-1][j-1]) \n",
    "            if(i==1 and j==1):\n",
    "                pointers[i][j]='D'\n",
    "            elif(D[i][j]==D[i-1][j]-8):\n",
    "                pointers[i][j]='U'\n",
    "            elif(D[i][j]==D[i][j-1]-8):\n",
    "                pointers[i][j]='L'\n",
    "            else:\n",
    "                pointers[i][j]='D'\n",
    "    print(D[m][n])\n",
    "    print(\"=====\")\n",
    "    str1, str2 = convert_edit_sequence_to_alignment(S,T,pointers)\n",
    "    print(\"=====\")\n",
    "    convert_alignment_into_steps(str1, str2)\n",
    "\n",
    "#Complexity of this is O(nm)   \n",
    "\n",
    "\n",
    "#end of def\n",
    "#==========\n",
    "#start of def\n",
    "\n",
    "def scoring_for_gaps(S,T,u, flag_for_printing):\n",
    "    '''\n",
    "    V(i,j)=max(E(i,j), F(i,j), G(i,j))\n",
    "    E(i,j)=max_{0<=k<j}(V(i,k) + w(j-k))\n",
    "    F(i,j)=max_{0<=k<i}(V(k,j) + w(i-k))\n",
    "    G(i,j)=V(i-1,j-1)+s(Si,Tj)\n",
    "\n",
    "    normally: O(mn+ n+m)\n",
    "    w(l)={0; l=0 \\\\ u; l>=1}\n",
    "    u<0\n",
    "    E(i,j)=max_{0<=k<=j-1}(V(i,k)+w(j-k))=max(E(i,j-1), V(i,j-1)+w(1)) (only insertions)\n",
    "    F(i,j)=u+max_{0<=k<=i-1}(V(k,j)+w(i-k))=max(F(i-1,j), V(i-1,j)+w(1)) (only deletions)\n",
    "    G(i,j)=V(i-1,j-1)+s(Si,Tj) (replacement on last character)\n",
    "    V(i,j)=max(E(i,j), F(i,j), G(i,j))\n",
    "    V(0,0)=0\n",
    "    E(0,0)=0\n",
    "    F(0,0)=0\n",
    "    V(i,0)=u(i>0)\n",
    "    V(0,j)=u(j>0)\n",
    "    E(i,0)=u (i>0)\n",
    "    F(0,j)=u(j>0)\n",
    "    E(0,j)=0 (j>0)\n",
    "    F(i,0)=0 (i>0)\n",
    "    '''\n",
    "    m=len(S)\n",
    "    n=len(T)\n",
    "    V=[[0 for j in range(n+1)] for i in range(m+1)]\n",
    "    E=[[0 for j in range(n+1)]for i in range(m+1)]\n",
    "    F=[[0 for j in range(n+1)]for i in range(m+1)]\n",
    "    G=[[0 for j in range(n+1)]for i in range(m+1)]\n",
    "    pointers=[['' for j in range(n+1)] for i in range(m+1)]\n",
    "    for i in range(m+1):\n",
    "        V[i][0]=u\n",
    "        E[i][0]=2*u\n",
    "        pointers[i][0]='U'\n",
    "    for j in range(n+1):\n",
    "        V[0][j]=u\n",
    "        F[0][j]=2*u\n",
    "        pointers[0][j]='L'\n",
    "    V[0][0]=0\n",
    "    E[0][0]=0\n",
    "    F[0][0]=0\n",
    "    for i in range(1,m+1):\n",
    "        for j in range(1,n+1):\n",
    "            E[i][j]=max(E[i][j-1], V[i][j-1]+u)\n",
    "            F[i][j]=max(F[i-1][j], V[i-1][j]+u)\n",
    "            G[i][j]=V[i-1][j-1]+new_s(S[i-1],T[j-1])\n",
    "            V[i][j]=max(E[i][j], F[i][j], G[i][j])\n",
    "            if(V[i][j]==G[i][j]):\n",
    "                pointers[i][j]='D'\n",
    "            elif(V[i][j]==E[i][j]):\n",
    "                pointers[i][j]='L'\n",
    "            else:\n",
    "                pointers[i][j]='U'\n",
    "    if(flag_for_printing):\n",
    "        print(V[m][n])\n",
    "        print(\"=====\")\n",
    "        str1, str2 = convert_edit_sequence_to_alignment(S,T,pointers)\n",
    "        print(\"=====\")\n",
    "        convert_alignment_into_steps(str1, str2)\n",
    "    return V[m][n]\n",
    "#end of def\n",
    "#==========\n",
    "#start of def\n",
    "\n",
    "def new_new_s(Si,Tj):\n",
    "    if(Si==Tj):\n",
    "        return 1\n",
    "    else:\n",
    "        return -1\n",
    "\n",
    "#end of def\n",
    "#==========\n",
    "#start of def\n",
    "\n",
    "def scoring_for_gaps_new(S,T,u, flag_for_printing):\n",
    "    m=len(S)\n",
    "    n=len(T)\n",
    "    V=[[0 for j in range(n+1)] for i in range(m+1)]\n",
    "    E=[[0 for j in range(n+1)]for i in range(m+1)]\n",
    "    F=[[0 for j in range(n+1)]for i in range(m+1)]\n",
    "    G=[[0 for j in range(n+1)]for i in range(m+1)]\n",
    "    for i in range(m+1):\n",
    "        V[i][0]=u\n",
    "        E[i][0]=2*u\n",
    "    for j in range(n+1):\n",
    "        V[0][j]=u\n",
    "        F[0][j]=2*u\n",
    "    V[0][0]=0\n",
    "    E[0][0]=0\n",
    "    F[0][0]=0    \n",
    "    for i in range(1,m+1):\n",
    "        for j in range(1,n+1):\n",
    "            E[i][j]=max(E[i][j-1], V[i][j-1]+u)\n",
    "            F[i][j]=max(F[i-1][j], V[i-1][j]+u)\n",
    "            G[i][j]=V[i-1][j-1]+new_new_s(S[i-1],T[j-1])\n",
    "            V[i][j]=max(E[i][j], F[i][j], G[i][j])\n",
    "    return V[m][n]\n",
    "#end of def\n",
    "#==========\n",
    "#start of def\n",
    "\n",
    "def montecarloestimation(N, n, u, p_):\n",
    "    Ui=['' for x in range(N)]\n",
    "    Vi=['' for x in range(N)]\n",
    "    V_gap=[0 for x in range(N)]\n",
    "    rng = np.random.default_rng()\n",
    "    for i in range(N):\n",
    "        pred=rng.random()\n",
    "        U=rng.choice(['a','b'],n, p=[p_,1-p_])\n",
    "        Ui[i]=''.join(U)\n",
    "        V=rng.choice(['a','b'],n, p=[p_,1-p_])\n",
    "        Vi[i]=''.join(V)\n",
    "        V_gap[i]=scoring_for_gaps_new(Ui[i], Vi[i], u, False)\n",
    "    mean=sum(V_gap)/N\n",
    "    return (mean/n)\n",
    "\n",
    "#end of def\n",
    "#==========\n",
    "#start of def\n",
    "\n",
    "def scoring_for_alignment(S,T,u_del, u_ins):\n",
    "    '''\n",
    "    V_s(i,j)=V_suf(i,j)=max(0,V_s(i-1,j)+s(Si,-), Vs(i,j-1)+s(-,Tj), Vs(i-1,j-1)+s(Si,Tj))\n",
    "    s(Si,-)=u_del\n",
    "    s(-,Tj)=u_ins\n",
    "    s being used is new_s from Section 2 of the project\n",
    "    v_sub(S,T)=max_i,j {V_s(i,j)}\n",
    "    Assume u_ins and u_del are constants (ie s(Si,-) and s(-,Tj) are constants for all Si,Tj)\n",
    "    '''\n",
    "    m=len(S)\n",
    "    n=len(T)\n",
    "    V_s=[[0 for j in range(n+1)] for i in range(m+1)]\n",
    "    vsub=0\n",
    "    for i in range(m+1):\n",
    "        V_s[i][0]=0\n",
    "    for j in range(n+1):\n",
    "        V_s[0][j]=0\n",
    "    V_s[0][0]=0\n",
    "    for i in range(1,m+1):\n",
    "        for j in range(1,n+1):\n",
    "            V_s[i][j]=max(0, V_s[i][j-1]+u_ins, V_s[i-1][j]+u_del, V_s[i-1][j-1]+new_s(S[i-1],T[j-1]))\n",
    "            vsub=max(vsub,V_s[i][j])\n",
    "    return vsub\n",
    "\n",
    "#end of def\n",
    "#=========="
   ]
  },
  {
   "cell_type": "code",
   "execution_count": null,
   "id": "b9425305",
   "metadata": {},
   "outputs": [],
   "source": [
    "-2+(-2)+12+18=26 "
   ]
  },
  {
   "cell_type": "code",
   "execution_count": 42,
   "id": "46ecee1c",
   "metadata": {},
   "outputs": [
    {
     "name": "stdout",
     "output_type": "stream",
     "text": [
      "41\n",
      "=====\n",
      "MMMMMMMD\n",
      "SSSSCCCS\n",
      "SSSSCCC \n",
      "=====\n",
      "\"Step 1 : Match S\"\n",
      "\n",
      "\"Step 2 : Match S\"\n",
      "\n",
      "\"Step 3 : Match S\"\n",
      "\n",
      "\"Step 4 : Match S\"\n",
      "\n",
      "\"Step 5 : Match C\"\n",
      "\n",
      "\"Step 6 : Match C\"\n",
      "\n",
      "\"Step 7 : Match C\"\n",
      "\n",
      "\"Step 8 : Delete S\"\n",
      "\n"
     ]
    },
    {
     "data": {
      "text/plain": [
       "41"
      ]
     },
     "execution_count": 42,
     "metadata": {},
     "output_type": "execute_result"
    }
   ],
   "source": [
    "scoring_for_gaps('SSSSCCCS','SSSSCCC',-2, True)\n",
    "#DMMMRMMR"
   ]
  },
  {
   "cell_type": "code",
   "execution_count": 40,
   "id": "6ac2f80d",
   "metadata": {},
   "outputs": [
    {
     "name": "stdout",
     "output_type": "stream",
     "text": [
      "['b' 'a' 'b' 'b' 'b' 'a' 'a' 'b' 'a' 'a']\n"
     ]
    }
   ],
   "source": [
    "# rng = np.random.default_rng()\n",
    "# p_=1/2\n",
    "# U=rng.choice(['a','b'],10,p=[p_,1-p_])\n",
    "# print(U)"
   ]
  },
  {
   "cell_type": "code",
   "execution_count": null,
   "id": "1793b814",
   "metadata": {},
   "outputs": [],
   "source": [
    "for n in range(100,5000):\n",
    "    print(montecarloestimation(10, n, -3, 1/2))"
   ]
  },
  {
   "cell_type": "code",
   "execution_count": null,
   "id": "36a08fb8",
   "metadata": {},
   "outputs": [],
   "source": [
    "x=[]"
   ]
  },
  {
   "cell_type": "code",
   "execution_count": 24,
   "id": "406458ec",
   "metadata": {},
   "outputs": [
    {
     "name": "stdout",
     "output_type": "stream",
     "text": [
      "0.4393333333333333\n"
     ]
    }
   ],
   "source": [
    "print(montecarloestimation(3, 5000, -3, 1/2))"
   ]
  },
  {
   "cell_type": "code",
   "execution_count": 32,
   "id": "4233f768",
   "metadata": {},
   "outputs": [
    {
     "name": "stdout",
     "output_type": "stream",
     "text": [
      "0.438875\n"
     ]
    }
   ],
   "source": [
    "print(montecarloestimation(4, 2000, -3, 1/2))"
   ]
  },
  {
   "cell_type": "code",
   "execution_count": 31,
   "id": "53cfd021",
   "metadata": {},
   "outputs": [
    {
     "name": "stdout",
     "output_type": "stream",
     "text": [
      "0.09340000000000001\n"
     ]
    }
   ],
   "source": [
    "print(montecarloestimation(500, 10, -3, 1/2))"
   ]
  },
  {
   "cell_type": "code",
   "execution_count": 50,
   "id": "016846b0",
   "metadata": {},
   "outputs": [
    {
     "name": "stdout",
     "output_type": "stream",
     "text": [
      "0.092\n"
     ]
    }
   ],
   "source": [
    "print(montecarloestimation(500, 10, -3, 1/2))"
   ]
  },
  {
   "cell_type": "code",
   "execution_count": 51,
   "id": "f78bd3f7",
   "metadata": {},
   "outputs": [
    {
     "name": "stdout",
     "output_type": "stream",
     "text": [
      "0.37112\n"
     ]
    }
   ],
   "source": [
    "print(montecarloestimation(500, 100, -3, 1/2))"
   ]
  },
  {
   "cell_type": "code",
   "execution_count": 52,
   "id": "345726b5",
   "metadata": {
    "scrolled": true
   },
   "outputs": [
    {
     "name": "stdout",
     "output_type": "stream",
     "text": [
      "0.42913799999999996\n"
     ]
    }
   ],
   "source": [
    "print(montecarloestimation(500, 1000, -3, 1/2))"
   ]
  },
  {
   "cell_type": "code",
   "execution_count": 35,
   "id": "6fd26f7c",
   "metadata": {
    "scrolled": false
   },
   "outputs": [
    {
     "data": {
      "text/plain": [
       "0.27912000000000003"
      ]
     },
     "execution_count": 35,
     "metadata": {},
     "output_type": "execute_result"
    }
   ],
   "source": [
    "0.37112-0.092"
   ]
  },
  {
   "cell_type": "code",
   "execution_count": 38,
   "id": "2b8fa371",
   "metadata": {},
   "outputs": [
    {
     "data": {
      "text/plain": [
       "0.44089999999999996"
      ]
     },
     "execution_count": 38,
     "metadata": {},
     "output_type": "execute_result"
    }
   ],
   "source": [
    "0.27912*(5/4)+0.092"
   ]
  },
  {
   "cell_type": "code",
   "execution_count": 2,
   "id": "eb6bae1b",
   "metadata": {
    "scrolled": true
   },
   "outputs": [
    {
     "data": {
      "text/plain": [
       "0.05801799999999996"
      ]
     },
     "execution_count": 2,
     "metadata": {},
     "output_type": "execute_result"
    }
   ],
   "source": [
    "0.42913799999999996-0.37112"
   ]
  },
  {
   "cell_type": "code",
   "execution_count": 3,
   "id": "658ec2ac",
   "metadata": {
    "scrolled": true
   },
   "outputs": [
    {
     "data": {
      "text/plain": [
       "0.2078604184580107"
      ]
     },
     "execution_count": 3,
     "metadata": {},
     "output_type": "execute_result"
    }
   ],
   "source": [
    "0.05801799999999996/0.27912000000000003"
   ]
  },
  {
   "cell_type": "code",
   "execution_count": 4,
   "id": "4fc79b1b",
   "metadata": {
    "scrolled": true
   },
   "outputs": [
    {
     "data": {
      "text/plain": [
       "0.44000000000000006"
      ]
     },
     "execution_count": 4,
     "metadata": {},
     "output_type": "execute_result"
    }
   ],
   "source": [
    "0.09+0.28*(1/(4/5))"
   ]
  },
  {
   "cell_type": "code",
   "execution_count": 26,
   "id": "8c435ae8",
   "metadata": {},
   "outputs": [
    {
     "ename": "KeyboardInterrupt",
     "evalue": "",
     "output_type": "error",
     "traceback": [
      "\u001b[0;31m---------------------------------------------------------------------------\u001b[0m",
      "\u001b[0;31mKeyboardInterrupt\u001b[0m                         Traceback (most recent call last)",
      "\u001b[0;32m<ipython-input-26-4e5095099af6>\u001b[0m in \u001b[0;36m<module>\u001b[0;34m\u001b[0m\n\u001b[0;32m----> 1\u001b[0;31m \u001b[0mprint\u001b[0m\u001b[0;34m(\u001b[0m\u001b[0mmontecarloestimation\u001b[0m\u001b[0;34m(\u001b[0m\u001b[0;36m500\u001b[0m\u001b[0;34m,\u001b[0m \u001b[0;36m10000\u001b[0m\u001b[0;34m,\u001b[0m \u001b[0;34m-\u001b[0m\u001b[0;36m3\u001b[0m\u001b[0;34m,\u001b[0m \u001b[0;36m1\u001b[0m\u001b[0;34m/\u001b[0m\u001b[0;36m2\u001b[0m\u001b[0;34m)\u001b[0m\u001b[0;34m)\u001b[0m\u001b[0;34m\u001b[0m\u001b[0;34m\u001b[0m\u001b[0m\n\u001b[0m",
      "\u001b[0;32m<ipython-input-24-912a6149261b>\u001b[0m in \u001b[0;36mmontecarloestimation\u001b[0;34m(N, n, u, p_)\u001b[0m\n\u001b[1;32m    346\u001b[0m         \u001b[0mV\u001b[0m\u001b[0;34m=\u001b[0m\u001b[0mrng\u001b[0m\u001b[0;34m.\u001b[0m\u001b[0mchoice\u001b[0m\u001b[0;34m(\u001b[0m\u001b[0;34m[\u001b[0m\u001b[0;34m'a'\u001b[0m\u001b[0;34m,\u001b[0m\u001b[0;34m'b'\u001b[0m\u001b[0;34m]\u001b[0m\u001b[0;34m,\u001b[0m\u001b[0mn\u001b[0m\u001b[0;34m,\u001b[0m \u001b[0mp\u001b[0m\u001b[0;34m=\u001b[0m\u001b[0;34m[\u001b[0m\u001b[0mp_\u001b[0m\u001b[0;34m,\u001b[0m\u001b[0;36m1\u001b[0m\u001b[0;34m-\u001b[0m\u001b[0mp_\u001b[0m\u001b[0;34m]\u001b[0m\u001b[0;34m)\u001b[0m\u001b[0;34m\u001b[0m\u001b[0;34m\u001b[0m\u001b[0m\n\u001b[1;32m    347\u001b[0m         \u001b[0mVi\u001b[0m\u001b[0;34m[\u001b[0m\u001b[0mi\u001b[0m\u001b[0;34m]\u001b[0m\u001b[0;34m=\u001b[0m\u001b[0;34m''\u001b[0m\u001b[0;34m.\u001b[0m\u001b[0mjoin\u001b[0m\u001b[0;34m(\u001b[0m\u001b[0mV\u001b[0m\u001b[0;34m)\u001b[0m\u001b[0;34m\u001b[0m\u001b[0;34m\u001b[0m\u001b[0m\n\u001b[0;32m--> 348\u001b[0;31m         \u001b[0mV_gap\u001b[0m\u001b[0;34m[\u001b[0m\u001b[0mi\u001b[0m\u001b[0;34m]\u001b[0m\u001b[0;34m=\u001b[0m\u001b[0mscoring_for_gaps_new\u001b[0m\u001b[0;34m(\u001b[0m\u001b[0mUi\u001b[0m\u001b[0;34m[\u001b[0m\u001b[0mi\u001b[0m\u001b[0;34m]\u001b[0m\u001b[0;34m,\u001b[0m \u001b[0mVi\u001b[0m\u001b[0;34m[\u001b[0m\u001b[0mi\u001b[0m\u001b[0;34m]\u001b[0m\u001b[0;34m,\u001b[0m \u001b[0mu\u001b[0m\u001b[0;34m,\u001b[0m \u001b[0;32mFalse\u001b[0m\u001b[0;34m)\u001b[0m\u001b[0;34m\u001b[0m\u001b[0;34m\u001b[0m\u001b[0m\n\u001b[0m\u001b[1;32m    349\u001b[0m     \u001b[0mmean\u001b[0m\u001b[0;34m=\u001b[0m\u001b[0msum\u001b[0m\u001b[0;34m(\u001b[0m\u001b[0mV_gap\u001b[0m\u001b[0;34m)\u001b[0m\u001b[0;34m/\u001b[0m\u001b[0mN\u001b[0m\u001b[0;34m\u001b[0m\u001b[0;34m\u001b[0m\u001b[0m\n\u001b[1;32m    350\u001b[0m     \u001b[0;32mreturn\u001b[0m \u001b[0;34m(\u001b[0m\u001b[0mmean\u001b[0m\u001b[0;34m/\u001b[0m\u001b[0mn\u001b[0m\u001b[0;34m)\u001b[0m\u001b[0;34m\u001b[0m\u001b[0;34m\u001b[0m\u001b[0m\n",
      "\u001b[0;32m<ipython-input-24-912a6149261b>\u001b[0m in \u001b[0;36mscoring_for_gaps_new\u001b[0;34m(S, T, u, flag_for_printing)\u001b[0m\n\u001b[1;32m    326\u001b[0m     \u001b[0;32mfor\u001b[0m \u001b[0mi\u001b[0m \u001b[0;32min\u001b[0m \u001b[0mrange\u001b[0m\u001b[0;34m(\u001b[0m\u001b[0;36m1\u001b[0m\u001b[0;34m,\u001b[0m\u001b[0mm\u001b[0m\u001b[0;34m+\u001b[0m\u001b[0;36m1\u001b[0m\u001b[0;34m)\u001b[0m\u001b[0;34m:\u001b[0m\u001b[0;34m\u001b[0m\u001b[0;34m\u001b[0m\u001b[0m\n\u001b[1;32m    327\u001b[0m         \u001b[0;32mfor\u001b[0m \u001b[0mj\u001b[0m \u001b[0;32min\u001b[0m \u001b[0mrange\u001b[0m\u001b[0;34m(\u001b[0m\u001b[0;36m1\u001b[0m\u001b[0;34m,\u001b[0m\u001b[0mn\u001b[0m\u001b[0;34m+\u001b[0m\u001b[0;36m1\u001b[0m\u001b[0;34m)\u001b[0m\u001b[0;34m:\u001b[0m\u001b[0;34m\u001b[0m\u001b[0;34m\u001b[0m\u001b[0m\n\u001b[0;32m--> 328\u001b[0;31m             \u001b[0mE\u001b[0m\u001b[0;34m[\u001b[0m\u001b[0mi\u001b[0m\u001b[0;34m]\u001b[0m\u001b[0;34m[\u001b[0m\u001b[0mj\u001b[0m\u001b[0;34m]\u001b[0m\u001b[0;34m=\u001b[0m\u001b[0mmax\u001b[0m\u001b[0;34m(\u001b[0m\u001b[0mE\u001b[0m\u001b[0;34m[\u001b[0m\u001b[0mi\u001b[0m\u001b[0;34m]\u001b[0m\u001b[0;34m[\u001b[0m\u001b[0mj\u001b[0m\u001b[0;34m-\u001b[0m\u001b[0;36m1\u001b[0m\u001b[0;34m]\u001b[0m\u001b[0;34m,\u001b[0m \u001b[0mV\u001b[0m\u001b[0;34m[\u001b[0m\u001b[0mi\u001b[0m\u001b[0;34m]\u001b[0m\u001b[0;34m[\u001b[0m\u001b[0mj\u001b[0m\u001b[0;34m-\u001b[0m\u001b[0;36m1\u001b[0m\u001b[0;34m]\u001b[0m\u001b[0;34m+\u001b[0m\u001b[0mu\u001b[0m\u001b[0;34m)\u001b[0m\u001b[0;34m\u001b[0m\u001b[0;34m\u001b[0m\u001b[0m\n\u001b[0m\u001b[1;32m    329\u001b[0m             \u001b[0mF\u001b[0m\u001b[0;34m[\u001b[0m\u001b[0mi\u001b[0m\u001b[0;34m]\u001b[0m\u001b[0;34m[\u001b[0m\u001b[0mj\u001b[0m\u001b[0;34m]\u001b[0m\u001b[0;34m=\u001b[0m\u001b[0mmax\u001b[0m\u001b[0;34m(\u001b[0m\u001b[0mF\u001b[0m\u001b[0;34m[\u001b[0m\u001b[0mi\u001b[0m\u001b[0;34m-\u001b[0m\u001b[0;36m1\u001b[0m\u001b[0;34m]\u001b[0m\u001b[0;34m[\u001b[0m\u001b[0mj\u001b[0m\u001b[0;34m]\u001b[0m\u001b[0;34m,\u001b[0m \u001b[0mV\u001b[0m\u001b[0;34m[\u001b[0m\u001b[0mi\u001b[0m\u001b[0;34m-\u001b[0m\u001b[0;36m1\u001b[0m\u001b[0;34m]\u001b[0m\u001b[0;34m[\u001b[0m\u001b[0mj\u001b[0m\u001b[0;34m]\u001b[0m\u001b[0;34m+\u001b[0m\u001b[0mu\u001b[0m\u001b[0;34m)\u001b[0m\u001b[0;34m\u001b[0m\u001b[0;34m\u001b[0m\u001b[0m\n\u001b[1;32m    330\u001b[0m             \u001b[0mG\u001b[0m\u001b[0;34m[\u001b[0m\u001b[0mi\u001b[0m\u001b[0;34m]\u001b[0m\u001b[0;34m[\u001b[0m\u001b[0mj\u001b[0m\u001b[0;34m]\u001b[0m\u001b[0;34m=\u001b[0m\u001b[0mV\u001b[0m\u001b[0;34m[\u001b[0m\u001b[0mi\u001b[0m\u001b[0;34m-\u001b[0m\u001b[0;36m1\u001b[0m\u001b[0;34m]\u001b[0m\u001b[0;34m[\u001b[0m\u001b[0mj\u001b[0m\u001b[0;34m-\u001b[0m\u001b[0;36m1\u001b[0m\u001b[0;34m]\u001b[0m\u001b[0;34m+\u001b[0m\u001b[0mnew_new_s\u001b[0m\u001b[0;34m(\u001b[0m\u001b[0mS\u001b[0m\u001b[0;34m[\u001b[0m\u001b[0mi\u001b[0m\u001b[0;34m-\u001b[0m\u001b[0;36m1\u001b[0m\u001b[0;34m]\u001b[0m\u001b[0;34m,\u001b[0m\u001b[0mT\u001b[0m\u001b[0;34m[\u001b[0m\u001b[0mj\u001b[0m\u001b[0;34m-\u001b[0m\u001b[0;36m1\u001b[0m\u001b[0;34m]\u001b[0m\u001b[0;34m)\u001b[0m\u001b[0;34m\u001b[0m\u001b[0;34m\u001b[0m\u001b[0m\n",
      "\u001b[0;31mKeyboardInterrupt\u001b[0m: "
     ]
    }
   ],
   "source": [
    "print(montecarloestimation(500, 10000, -3, 1/2))"
   ]
  },
  {
   "cell_type": "code",
   "execution_count": 5,
   "id": "2310d6cc",
   "metadata": {},
   "outputs": [],
   "source": [
    "blosum_matrix=ParseBLOSUM()\n",
    "proteins=ParseProteinsTxt()"
   ]
  },
  {
   "cell_type": "code",
   "execution_count": 5,
   "id": "23b4fb3b",
   "metadata": {},
   "outputs": [
    {
     "data": {
      "text/plain": [
       "3"
      ]
     },
     "execution_count": 5,
     "metadata": {},
     "output_type": "execute_result"
    }
   ],
   "source": [
    "edit_distance(\"shesells\",\"seashells\")"
   ]
  },
  {
   "cell_type": "code",
   "execution_count": 43,
   "id": "e61055ef",
   "metadata": {},
   "outputs": [
    {
     "name": "stdout",
     "output_type": "stream",
     "text": [
      "3\n",
      "=====\n",
      "MDMIMIMMMM\n",
      "she s ells\n",
      "s eashells\n",
      "=====\n",
      "\"Step 1 : Match s\"\n",
      "\n",
      "\"Step 2 : Delete h\"\n",
      "\n",
      "\"Step 3 : Match e\"\n",
      "\n",
      "\"Step 4 : Insert a\"\n",
      "\n",
      "\"Step 5 : Match s\"\n",
      "\n",
      "\"Step 6 : Insert h\"\n",
      "\n",
      "\"Step 7 : Match e\"\n",
      "\n",
      "\"Step 8 : Match l\"\n",
      "\n",
      "\"Step 9 : Match l\"\n",
      "\n",
      "\"Step 10 : Match s\"\n",
      "\n"
     ]
    }
   ],
   "source": [
    "edit_distance_with_pointer(\"shesells\",\"seashells\")"
   ]
  },
  {
   "cell_type": "code",
   "execution_count": 15,
   "id": "a04bf6c1",
   "metadata": {},
   "outputs": [
    {
     "name": "stdout",
     "output_type": "stream",
     "text": [
      "158\n",
      "MRRRMRDDDDMMMRMMRMMRMRRRRMRRMMRMMMMRMMMMRDMIMRMMRM\n"
     ]
    }
   ],
   "source": [
    "wow=\"MRRRMRDDDDMMMRMMRMMRMRRRRMRRMMRMMMMRMMMMRDMIMRMMRMRRRRMRRRIMDMRRRDMMRMMMRRMMRRMMRMMRMRMRMMMMMRMMMMMMMMRMRIMIMDDMMMRRRRMRRRMRRRMRMRDDMRMRRRRRRRRRRMRRMRMMMRMMRM\"\n",
    "print(len(wow))\n",
    "print(wow[:50])"
   ]
  },
  {
   "cell_type": "code",
   "execution_count": 17,
   "id": "6b2e75e8",
   "metadata": {},
   "outputs": [
    {
     "name": "stdout",
     "output_type": "stream",
     "text": [
      "MGLSDGEWQLVLKVWGKVEGDLPGHGQEVLIRLFKTHPETLEK FDKFKG\n"
     ]
    }
   ],
   "source": [
    "wow=\"MGLSDGEWQLVLKVWGKVEGDLPGHGQEVLIRLFKTHPETLEK FDKFKGLKTEDEMK ASADLKKHGGTVLTALGNILKKKGQHEAELKPLAQSHATKHKISIK F LEYISEAIIHVLQSKHSADFGADAQAAMGKALELFRNDMAAKYKEFGFQG\"\n",
    "print(wow[:50])"
   ]
  },
  {
   "cell_type": "code",
   "execution_count": 44,
   "id": "3d70e23a",
   "metadata": {
    "scrolled": true
   },
   "outputs": [
    {
     "name": "stdout",
     "output_type": "stream",
     "text": [
      "83\n",
      "=====\n",
      "MRRRMRDDDDMMMRMMRMMRMRRRRMRRMMRMMMMRMMMMRDMIMRMMRMRRRRMRRRIMDMRRRDMMRMMMRRMMRRMMRMMRMRMRMMMMMRMMMMMMMMRMRIMIMDDMMMRRRRMRRRMRRRMRMRDDMRMRRRRRRRRRRMRRMRMMMRMMRM\n",
      "MGLSDGEWQLVLKVWGKVEGDLPGHGQEVLIRLFKTHPETLEK FDKFKGLKTEDEMK ASADLKKHGGTVLTALGNILKKKGQHEAELKPLAQSHATKHKISIK F LEYISEAIIHVLQSKHSADFGADAQAAMGKALELFRNDMAAKYKEFGFQG\n",
      "MADFDA    VLKCWGPVEADYTTMGGLVLTRLFKEHPETQ KLFPKFAGIAQADIAGNA AISA HGATVLKKLGELLKAKGSHAAILKPLANSHATKHKIPINNFKL  ISEVLVKVMHEKAGLDAGG  QTALRNVMGIIIADLEANYKELGFSG\n",
      "=====\n",
      "\"Step 1 : Match M\"\n",
      "\n",
      "\"Step 2 : Replace G with A\"\n",
      "\n",
      "\"Step 3 : Replace L with D\"\n",
      "\n",
      "\"Step 4 : Replace S with F\"\n",
      "\n",
      "\"Step 5 : Match D\"\n",
      "\n",
      "\"Step 6 : Replace G with A\"\n",
      "\n",
      "\"Step 7 : Delete E\"\n",
      "\n",
      "\"Step 8 : Delete W\"\n",
      "\n",
      "\"Step 9 : Delete Q\"\n",
      "\n",
      "\"Step 10 : Delete L\"\n",
      "\n",
      "\"Step 11 : Match V\"\n",
      "\n",
      "\"Step 12 : Match L\"\n",
      "\n",
      "\"Step 13 : Match K\"\n",
      "\n",
      "\"Step 14 : Replace V with C\"\n",
      "\n",
      "\"Step 15 : Match W\"\n",
      "\n",
      "\"Step 16 : Match G\"\n",
      "\n",
      "\"Step 17 : Replace K with P\"\n",
      "\n",
      "\"Step 18 : Match V\"\n",
      "\n",
      "\"Step 19 : Match E\"\n",
      "\n",
      "\"Step 20 : Replace G with A\"\n",
      "\n",
      "\"Step 21 : Match D\"\n",
      "\n",
      "\"Step 22 : Replace L with Y\"\n",
      "\n",
      "\"Step 23 : Replace P with T\"\n",
      "\n",
      "\"Step 24 : Replace G with T\"\n",
      "\n",
      "\"Step 25 : Replace H with M\"\n",
      "\n",
      "\"Step 26 : Match G\"\n",
      "\n",
      "\"Step 27 : Replace Q with G\"\n",
      "\n",
      "\"Step 28 : Replace E with L\"\n",
      "\n",
      "\"Step 29 : Match V\"\n",
      "\n",
      "\"Step 30 : Match L\"\n",
      "\n",
      "\"Step 31 : Replace I with T\"\n",
      "\n",
      "\"Step 32 : Match R\"\n",
      "\n",
      "\"Step 33 : Match L\"\n",
      "\n",
      "\"Step 34 : Match F\"\n",
      "\n",
      "\"Step 35 : Match K\"\n",
      "\n",
      "\"Step 36 : Replace T with E\"\n",
      "\n",
      "\"Step 37 : Match H\"\n",
      "\n",
      "\"Step 38 : Match P\"\n",
      "\n",
      "\"Step 39 : Match E\"\n",
      "\n",
      "\"Step 40 : Match T\"\n",
      "\n",
      "\"Step 41 : Replace L with Q\"\n",
      "\n",
      "\"Step 42 : Delete E\"\n",
      "\n",
      "\"Step 43 : Match K\"\n",
      "\n",
      "\"Step 44 : Insert L\"\n",
      "\n",
      "\"Step 45 : Match F\"\n",
      "\n",
      "\"Step 46 : Replace D with P\"\n",
      "\n",
      "\"Step 47 : Match K\"\n",
      "\n",
      "\"Step 48 : Match F\"\n",
      "\n",
      "\"Step 49 : Replace K with A\"\n",
      "\n",
      "\"Step 50 : Match G\"\n",
      "\n"
     ]
    }
   ],
   "source": [
    "edit_distance_with_pointer(proteins['A'],proteins['B'])"
   ]
  },
  {
   "cell_type": "code",
   "execution_count": null,
   "id": "184da2d7",
   "metadata": {},
   "outputs": [],
   "source": []
  },
  {
   "cell_type": "code",
   "execution_count": 18,
   "id": "73d920dd",
   "metadata": {
    "scrolled": true
   },
   "outputs": [
    {
     "name": "stdout",
     "output_type": "stream",
     "text": [
      "MDDRMDDRRRMMMRMMRMMRMRRRRMRRMMRMMMMRMMMMRRRMRMMRMR\n"
     ]
    }
   ],
   "source": [
    "wow=\"MDDRMDDRRRMMMRMMRMMRMRRRRMRRMMRMMMMRMMMMRRRMRMMRMRRRRMDRRRRMRRRRMMRMMMRRMMRRMMRMMRMRMRMMMMMRMMMMMMMMRMRRRRRMMMRRRRMRRRMRRRMRMRDDMRMRRRRRRRRRRMRRMRMMMRMMRM\"\n",
    "print(wow[:50])"
   ]
  },
  {
   "cell_type": "code",
   "execution_count": 45,
   "id": "618e2e7f",
   "metadata": {},
   "outputs": [
    {
     "name": "stdout",
     "output_type": "stream",
     "text": [
      "290\n",
      "=====\n",
      "MDDRMDDRRRMMMRMMRMMRMRRRRMRRMMRMMMMRMMMMRRRMRMMRMRRRRMDRRRRMRRRRMMRMMMRRMMRRMMRMMRMRMRMMMMMRMMMMMMMMRMRRRRRMMMRRRRMRRRMRRRMRMRDDMRMRRRRRRRRRRMRRMRMMMRMMRM\n",
      "MGLSDGEWQLVLKVWGKVEGDLPGHGQEVLIRLFKTHPETLEKFDKFKGLKTEDEMKASADLKKHGGTVLTALGNILKKKGQHEAELKPLAQSHATKHKISIKFLEYISEAIIHVLQSKHSADFGADAQAAMGKALELFRNDMAAKYKEFGFQG\n",
      "M  AD  FDAVLKCWGPVEADYTTMGGLVLTRLFKEHPETQKLFPKFAGIAQAD IAGNAAISAHGATVLKKLGELLKAKGSHAAILKPLANSHATKHKIPINNFKLISEVLVKVMHEKAGLDAGG  QTALRNVMGIIIADLEANYKELGFSG\n",
      "=====\n",
      "\"Step 1 : Match M\"\n",
      "\n",
      "\"Step 2 : Delete G\"\n",
      "\n",
      "\"Step 3 : Delete L\"\n",
      "\n",
      "\"Step 4 : Replace S with A\"\n",
      "\n",
      "\"Step 5 : Match D\"\n",
      "\n",
      "\"Step 6 : Delete G\"\n",
      "\n",
      "\"Step 7 : Delete E\"\n",
      "\n",
      "\"Step 8 : Replace W with F\"\n",
      "\n",
      "\"Step 9 : Replace Q with D\"\n",
      "\n",
      "\"Step 10 : Replace L with A\"\n",
      "\n",
      "\"Step 11 : Match V\"\n",
      "\n",
      "\"Step 12 : Match L\"\n",
      "\n",
      "\"Step 13 : Match K\"\n",
      "\n",
      "\"Step 14 : Replace V with C\"\n",
      "\n",
      "\"Step 15 : Match W\"\n",
      "\n",
      "\"Step 16 : Match G\"\n",
      "\n",
      "\"Step 17 : Replace K with P\"\n",
      "\n",
      "\"Step 18 : Match V\"\n",
      "\n",
      "\"Step 19 : Match E\"\n",
      "\n",
      "\"Step 20 : Replace G with A\"\n",
      "\n",
      "\"Step 21 : Match D\"\n",
      "\n",
      "\"Step 22 : Replace L with Y\"\n",
      "\n",
      "\"Step 23 : Replace P with T\"\n",
      "\n",
      "\"Step 24 : Replace G with T\"\n",
      "\n",
      "\"Step 25 : Replace H with M\"\n",
      "\n",
      "\"Step 26 : Match G\"\n",
      "\n",
      "\"Step 27 : Replace Q with G\"\n",
      "\n",
      "\"Step 28 : Replace E with L\"\n",
      "\n",
      "\"Step 29 : Match V\"\n",
      "\n",
      "\"Step 30 : Match L\"\n",
      "\n",
      "\"Step 31 : Replace I with T\"\n",
      "\n",
      "\"Step 32 : Match R\"\n",
      "\n",
      "\"Step 33 : Match L\"\n",
      "\n",
      "\"Step 34 : Match F\"\n",
      "\n",
      "\"Step 35 : Match K\"\n",
      "\n",
      "\"Step 36 : Replace T with E\"\n",
      "\n",
      "\"Step 37 : Match H\"\n",
      "\n",
      "\"Step 38 : Match P\"\n",
      "\n",
      "\"Step 39 : Match E\"\n",
      "\n",
      "\"Step 40 : Match T\"\n",
      "\n",
      "\"Step 41 : Replace L with Q\"\n",
      "\n",
      "\"Step 42 : Replace E with K\"\n",
      "\n",
      "\"Step 43 : Replace K with L\"\n",
      "\n",
      "\"Step 44 : Match F\"\n",
      "\n",
      "\"Step 45 : Replace D with P\"\n",
      "\n",
      "\"Step 46 : Match K\"\n",
      "\n",
      "\"Step 47 : Match F\"\n",
      "\n",
      "\"Step 48 : Replace K with A\"\n",
      "\n",
      "\"Step 49 : Match G\"\n",
      "\n",
      "\"Step 50 : Replace L with I\"\n",
      "\n"
     ]
    }
   ],
   "source": [
    "max_score_with_scoring_matrix(proteins['A'],proteins['B'])"
   ]
  },
  {
   "cell_type": "code",
   "execution_count": 8,
   "id": "9557b111",
   "metadata": {
    "collapsed": true
   },
   "outputs": [
    {
     "name": "stdout",
     "output_type": "stream",
     "text": [
      "290\n",
      "=====\n",
      "MDDRMDDRRRMMMRMMRMMRMRRRRMRRMMRMMMMRMMMMRRRMRMMRMRRRRMDRRRRMRRRRMMRMMMRRMMRRMMRMMRMRMRMMMMMRMMMMMMMMRMRRRRRMMMRRRRMRRRMRRRMRMRDDMRMRRRRRRRRRRMRRMRMMMRMMRM\n",
      "MGLSDGEWQLVLKVWGKVEGDLPGHGQEVLIRLFKTHPETLEKFDKFKGLKTEDEMKASADLKKHGGTVLTALGNILKKKGQHEAELKPLAQSHATKHKISIKFLEYISEAIIHVLQSKHSADFGADAQAAMGKALELFRNDMAAKYKEFGFQG\n",
      "M  AD  FDAVLKCWGPVEADYTTMGGLVLTRLFKEHPETQKLFPKFAGIAQAD IAGNAAISAHGATVLKKLGELLKAKGSHAAILKPLANSHATKHKIPINNFKLISEVLVKVMHEKAGLDAGG  QTALRNVMGIIIADLEANYKELGFSG\n",
      "=====\n",
      "Step 1 : Match M\n",
      "Step 2 : Delete G\n",
      "Step 3 : Delete L\n",
      "Step 4 : Replace S with A\n",
      "Step 5 : Match D\n",
      "Step 6 : Delete G\n",
      "Step 7 : Delete E\n",
      "Step 8 : Replace W with F\n",
      "Step 9 : Replace Q with D\n",
      "Step 10 : Replace L with A\n",
      "Step 11 : Match V\n",
      "Step 12 : Match L\n",
      "Step 13 : Match K\n",
      "Step 14 : Replace V with C\n",
      "Step 15 : Match W\n",
      "Step 16 : Match G\n",
      "Step 17 : Replace K with P\n",
      "Step 18 : Match V\n",
      "Step 19 : Match E\n",
      "Step 20 : Replace G with A\n",
      "Step 21 : Match D\n",
      "Step 22 : Replace L with Y\n",
      "Step 23 : Replace P with T\n",
      "Step 24 : Replace G with T\n",
      "Step 25 : Replace H with M\n",
      "Step 26 : Match G\n",
      "Step 27 : Replace Q with G\n",
      "Step 28 : Replace E with L\n",
      "Step 29 : Match V\n",
      "Step 30 : Match L\n",
      "Step 31 : Replace I with T\n",
      "Step 32 : Match R\n",
      "Step 33 : Match L\n",
      "Step 34 : Match F\n",
      "Step 35 : Match K\n",
      "Step 36 : Replace T with E\n",
      "Step 37 : Match H\n",
      "Step 38 : Match P\n",
      "Step 39 : Match E\n",
      "Step 40 : Match T\n",
      "Step 41 : Replace L with Q\n",
      "Step 42 : Replace E with K\n",
      "Step 43 : Replace K with L\n",
      "Step 44 : Match F\n",
      "Step 45 : Replace D with P\n",
      "Step 46 : Match K\n",
      "Step 47 : Match F\n",
      "Step 48 : Replace K with A\n",
      "Step 49 : Match G\n",
      "Step 50 : Replace L with I\n"
     ]
    }
   ],
   "source": [
    "max_score_with_scoring_matrix(proteins['A'],proteins['B'])"
   ]
  },
  {
   "cell_type": "code",
   "execution_count": 9,
   "id": "39a7ca35",
   "metadata": {
    "collapsed": true
   },
   "outputs": [
    {
     "name": "stdout",
     "output_type": "stream",
     "text": [
      "7\n",
      "=====\n",
      "RRMM\n",
      "AMMA\n",
      "MAMA\n",
      "=====\n",
      "Step 1 : Replace A with M\n",
      "Step 2 : Replace M with A\n",
      "Step 3 : Match M\n",
      "Step 4 : Match A\n"
     ]
    },
    {
     "data": {
      "text/plain": [
       "7"
      ]
     },
     "execution_count": 9,
     "metadata": {},
     "output_type": "execute_result"
    }
   ],
   "source": [
    "scoring_for_gaps('AMMA','MAMA',-12, True)"
   ]
  },
  {
   "cell_type": "code",
   "execution_count": 19,
   "id": "fff39722",
   "metadata": {},
   "outputs": [
    {
     "data": {
      "text/plain": [
       "'MDDDDDDDDDDDDDDDDDDDDDMRRRMRRRRRMRRDRMRRRRMRRMMRDD'"
      ]
     },
     "execution_count": 19,
     "metadata": {},
     "output_type": "execute_result"
    }
   ],
   "source": [
    "wow=\"MDDDDDDDDDDDDDDDDDDDDDMRRRMRRRRRMRRDRMRRRRMRRMMRDDDDDRDRDMRMMDDDDMRMMRMRRMRMMRMRRRMRMRRRMMMMMMMMMMMMMMMMMMMMRMMRRMMMMMRRMRMRRRMRRMRRMMRMMRMMRMMMRMMMMMMMMMRMMRMMRMMRMMRMMMRMMMRRMMRRMMMMMMMRMRMMRRMRRMMRMMMMMMMMMMMRMMMMMMRMMMMMRMMMRMMMRMMRMMMMMMRMMRMRMMMRMMMMMMRMRMRMRMRRRRRMMMMRMRMRRRMMMMMMRMRRMMRMMMMRRMRMMRMMRMMRRMMMMMMMMMRRMRRMMMRMRRMRMMRMMMMMRMRMRMMRMRMRMMMMMMRMMMMMMMMMMMMMMMRMMMMRMMMMMRRMMRMMMRRMIIIIIIIIIRMMIIIIMMIIRIIMIIIIIIIIMIMRRRRRMRMMRRRDDDDMDDDDR\"\n",
    "wow[:50]"
   ]
  },
  {
   "cell_type": "code",
   "execution_count": 46,
   "id": "6f23ac94",
   "metadata": {
    "collapsed": true
   },
   "outputs": [
    {
     "name": "stdout",
     "output_type": "stream",
     "text": [
      "1236\n",
      "=====\n",
      "MDDDDDDDDDDDDDDDDDDDDDMRRRMRRRRRMRRDRMRRRRMRRMMRDDDDDRDRDMRMMDDDDMRMMRMRRMRMMRMRRRMRMRRRMMMMMMMMMMMMMMMMMMMMRMMRRMMMMMRRMRMRRRMRRMRRMMRMMRMMRMMMRMMMMMMMMMRMMRMMRMMRMMRMMMRMMMRRMMRRMMMMMMMRMRMMRRMRRMMRMMMMMMMMMMMRMMMMMMRMMMMMRMMMRMMMRMMRMMMMMMRMMRMRMMMRMMMMMMRMRMRMRMRRRRRMMMMRMRMRRRMMMMMMRMRRMMRMMMMRRMRMMRMMRMMRRMMMMMMMMMRRMRRMMMRMRRMRMMRMMMMMRMRMRMMRMRMRMMMMMMRMMMMMMMMMMMMMMMRMMMMRMMMMMRRMMRMMMRRMIIIIIIIIIRMMIIIIMMIIRIIMIIIIIIIIMIMRRRRRMRMMRRRDDDDMDDDDR\n",
      "MTSDCSSTHCSPESCGTASGCAPASSCSVETACLPGTCATSRCQTPSFLSRSRGLTGCLLPCYFTGSCNSPCLVGNCAWCEDGVFTSNEKETMQFLNDRLASYLEKVRSLEETNAELESRIQEQCEQDIPMVCPDYQRYFNTIEDLQQKILCTKAENSRLAVQLDNCKLATDDFKSKYESELSLRQLLEADISSLHGILEELTLCKSDLEAHVESLKEDLLCLKKNHEEEVNLLREQLGDRLSVELDTAPTLDLNRVLDEMRCQCETVLANNRREAEEWLAVQTEELNQQQLSSAEQLQGCQMEILELKRTASALEIELQAQQSLTESLECTVAETEAQYSSQLAQIQCLIDNLENQLAEIRCDLERQNQEYQVLLDVKARLEGEINTYWGLLDSEDSRL         SCS    PC  S  T        T CTSSNTCEPCSAYVICTVENCCL\n",
      "M                     PYNFCLPSLSCRT SCSSRPCVPPSC     H S CTLP    GACNIPANVSNCNWFCEGSFNGSEKETMQFLNDRLASYLEKVRQLERDNAELENLIRERSQQQEPLLCPSYQSYFKTIEELQQKILCTKSENARLVVQIDNAKLAADDFRTKYQTELSLRQLVESDINGLRRILDELTLCKSDLEAQVESLKEELLCLKSNHEQEVNTLRCQLGDRLNVEVDAAPTVDLNRVLNETRSQYEALVETNRREVEQWFTTQTEELNKQVVSSSEQLQSYQAEIIELRRTVNALEIELQAQHNLRDSLENTLTESEARYSSQLSQVQSLITNVESQLAEIRSDLERQNQEYQVLLDVRARLECEINTYRSLLESEDCNLPSNPCATTNACSKPIGPCLSNPCTSCVPPAPCTPCAPRPRCGPCNSF    V    R\n",
      "=====\n",
      "\"Step 1 : Match M\"\n",
      "\n",
      "\"Step 2 : Delete T\"\n",
      "\n",
      "\"Step 3 : Delete S\"\n",
      "\n",
      "\"Step 4 : Delete D\"\n",
      "\n",
      "\"Step 5 : Delete C\"\n",
      "\n",
      "\"Step 6 : Delete S\"\n",
      "\n",
      "\"Step 7 : Delete S\"\n",
      "\n",
      "\"Step 8 : Delete T\"\n",
      "\n",
      "\"Step 9 : Delete H\"\n",
      "\n",
      "\"Step 10 : Delete C\"\n",
      "\n",
      "\"Step 11 : Delete S\"\n",
      "\n",
      "\"Step 12 : Delete P\"\n",
      "\n",
      "\"Step 13 : Delete E\"\n",
      "\n",
      "\"Step 14 : Delete S\"\n",
      "\n",
      "\"Step 15 : Delete C\"\n",
      "\n",
      "\"Step 16 : Delete G\"\n",
      "\n",
      "\"Step 17 : Delete T\"\n",
      "\n",
      "\"Step 18 : Delete A\"\n",
      "\n",
      "\"Step 19 : Delete S\"\n",
      "\n",
      "\"Step 20 : Delete G\"\n",
      "\n",
      "\"Step 21 : Delete C\"\n",
      "\n",
      "\"Step 22 : Delete A\"\n",
      "\n",
      "\"Step 23 : Match P\"\n",
      "\n",
      "\"Step 24 : Replace A with Y\"\n",
      "\n",
      "\"Step 25 : Replace S with N\"\n",
      "\n",
      "\"Step 26 : Replace S with F\"\n",
      "\n",
      "\"Step 27 : Match C\"\n",
      "\n",
      "\"Step 28 : Replace S with L\"\n",
      "\n",
      "\"Step 29 : Replace V with P\"\n",
      "\n",
      "\"Step 30 : Replace E with S\"\n",
      "\n",
      "\"Step 31 : Replace T with L\"\n",
      "\n",
      "\"Step 32 : Replace A with S\"\n",
      "\n",
      "\"Step 33 : Match C\"\n",
      "\n",
      "\"Step 34 : Replace L with R\"\n",
      "\n",
      "\"Step 35 : Replace P with T\"\n",
      "\n",
      "\"Step 36 : Delete G\"\n",
      "\n",
      "\"Step 37 : Replace T with S\"\n",
      "\n",
      "\"Step 38 : Match C\"\n",
      "\n",
      "\"Step 39 : Replace A with S\"\n",
      "\n",
      "\"Step 40 : Replace T with S\"\n",
      "\n",
      "\"Step 41 : Replace S with R\"\n",
      "\n",
      "\"Step 42 : Replace R with P\"\n",
      "\n",
      "\"Step 43 : Match C\"\n",
      "\n",
      "\"Step 44 : Replace Q with V\"\n",
      "\n",
      "\"Step 45 : Replace T with P\"\n",
      "\n",
      "\"Step 46 : Match P\"\n",
      "\n",
      "\"Step 47 : Match S\"\n",
      "\n",
      "\"Step 48 : Replace F with C\"\n",
      "\n",
      "\"Step 49 : Delete L\"\n",
      "\n",
      "\"Step 50 : Delete S\"\n",
      "\n"
     ]
    },
    {
     "data": {
      "text/plain": [
       "1236"
      ]
     },
     "execution_count": 46,
     "metadata": {},
     "output_type": "execute_result"
    }
   ],
   "source": [
    "scoring_for_gaps(proteins['C'],proteins['D'],-12, True)"
   ]
  },
  {
   "cell_type": "code",
   "execution_count": 7,
   "id": "b3f4f561",
   "metadata": {
    "scrolled": true
   },
   "outputs": [
    {
     "name": "stdout",
     "output_type": "stream",
     "text": [
      "1236\n",
      "=====\n",
      "MDDDDDDDDDDDDDDDDDDDDDMRRRMRRRRRMRRDRMRRRRMRRMMRDDDDDRDRDMRMMDDDDMRMMRMRRMRMMRMRRRMRMRRRMMMMMMMMMMMMMMMMMMMMRMMRRMMMMMRRMRMRRRMRRMRRMMRMMRMMRMMMRMMMMMMMMMRMMRMMRMMRMMRMMMRMMMRRMMRRMMMMMMMRMRMMRRMRRMMRMMMMMMMMMMMRMMMMMMRMMMMMRMMMRMMMRMMRMMMMMMRMMRMRMMMRMMMMMMRMRMRMRMRRRRRMMMMRMRMRRRMMMMMMRMRRMMRMMMMRRMRMMRMMRMMRRMMMMMMMMMRRMRRMMMRMRRMRMMRMMMMMRMRMRMMRMRMRMMMMMMRMMMMMMMMMMMMMMMRMMMMRMMMMMRRMMRMMMRRMIIIIIIIIIRMMIIIIMMIIRIIMIIIIIIIIMIMRRRRRMRMMRRRDDDDMDDDDR\n",
      "MTSDCSSTHCSPESCGTASGCAPASSCSVETACLPGTCATSRCQTPSFLSRSRGLTGCLLPCYFTGSCNSPCLVGNCAWCEDGVFTSNEKETMQFLNDRLASYLEKVRSLEETNAELESRIQEQCEQDIPMVCPDYQRYFNTIEDLQQKILCTKAENSRLAVQLDNCKLATDDFKSKYESELSLRQLLEADISSLHGILEELTLCKSDLEAHVESLKEDLLCLKKNHEEEVNLLREQLGDRLSVELDTAPTLDLNRVLDEMRCQCETVLANNRREAEEWLAVQTEELNQQQLSSAEQLQGCQMEILELKRTASALEIELQAQQSLTESLECTVAETEAQYSSQLAQIQCLIDNLENQLAEIRCDLERQNQEYQVLLDVKARLEGEINTYWGLLDSEDSRL         SCS    PC  S  T        T CTSSNTCEPCSAYVICTVENCCL\n",
      "M                     PYNFCLPSLSCRT SCSSRPCVPPSC     H S CTLP    GACNIPANVSNCNWFCEGSFNGSEKETMQFLNDRLASYLEKVRQLERDNAELENLIRERSQQQEPLLCPSYQSYFKTIEELQQKILCTKSENARLVVQIDNAKLAADDFRTKYQTELSLRQLVESDINGLRRILDELTLCKSDLEAQVESLKEELLCLKSNHEQEVNTLRCQLGDRLNVEVDAAPTVDLNRVLNETRSQYEALVETNRREVEQWFTTQTEELNKQVVSSSEQLQSYQAEIIELRRTVNALEIELQAQHNLRDSLENTLTESEARYSSQLSQVQSLITNVESQLAEIRSDLERQNQEYQVLLDVRARLECEINTYRSLLESEDCNLPSNPCATTNACSKPIGPCLSNPCTSCVPPAPCTPCAPRPRCGPCNSF    V    R\n",
      "=====\n",
      "Step 1 : Match M\n",
      "Step 2 : Delete T\n",
      "Step 3 : Delete S\n",
      "Step 4 : Delete D\n",
      "Step 5 : Delete C\n",
      "Step 6 : Delete S\n",
      "Step 7 : Delete S\n",
      "Step 8 : Delete T\n",
      "Step 9 : Delete H\n",
      "Step 10 : Delete C\n",
      "Step 11 : Delete S\n",
      "Step 12 : Delete P\n",
      "Step 13 : Delete E\n",
      "Step 14 : Delete S\n",
      "Step 15 : Delete C\n",
      "Step 16 : Delete G\n",
      "Step 17 : Delete T\n",
      "Step 18 : Delete A\n",
      "Step 19 : Delete S\n",
      "Step 20 : Delete G\n",
      "Step 21 : Delete C\n",
      "Step 22 : Delete A\n",
      "Step 23 : Match P\n",
      "Step 24 : Replace A with Y\n",
      "Step 25 : Replace S with N\n",
      "Step 26 : Replace S with F\n",
      "Step 27 : Match C\n",
      "Step 28 : Replace S with L\n",
      "Step 29 : Replace V with P\n",
      "Step 30 : Replace E with S\n",
      "Step 31 : Replace T with L\n",
      "Step 32 : Replace A with S\n",
      "Step 33 : Match C\n",
      "Step 34 : Replace L with R\n",
      "Step 35 : Replace P with T\n",
      "Step 36 : Delete G\n",
      "Step 37 : Replace T with S\n",
      "Step 38 : Match C\n",
      "Step 39 : Replace A with S\n",
      "Step 40 : Replace T with S\n",
      "Step 41 : Replace S with R\n",
      "Step 42 : Replace R with P\n",
      "Step 43 : Match C\n",
      "Step 44 : Replace Q with V\n",
      "Step 45 : Replace T with P\n",
      "Step 46 : Match P\n",
      "Step 47 : Match S\n",
      "Step 48 : Replace F with C\n",
      "Step 49 : Delete L\n",
      "Step 50 : Delete S\n"
     ]
    },
    {
     "data": {
      "text/plain": [
       "1236"
      ]
     },
     "execution_count": 7,
     "metadata": {},
     "output_type": "execute_result"
    }
   ],
   "source": [
    "scoring_for_gaps(proteins['C'],proteins['D'],-12, True)"
   ]
  },
  {
   "cell_type": "code",
   "execution_count": 10,
   "id": "a60f4b76",
   "metadata": {},
   "outputs": [
    {
     "name": "stdout",
     "output_type": "stream",
     "text": [
      "1236\n",
      "=====\n",
      "MDDDDDDDDDDDDDDDDDDDDDMRRRMRRRRRMRRDRMRRRRMRRMMRDDDDDRDRDMRMMDDDDMRMMRMRRMRMMRMRRRMRMRRRMMMMMMMMMMMMMMMMMMMMRMMRRMMMMMRRMRMRRRMRRMRRMMRMMRMMRMMMRMMMMMMMMMRMMRMMRMMRMMRMMMRMMMRRMMRRMMMMMMMRMRMMRRMRRMMRMMMMMMMMMMMRMMMMMMRMMMMMRMMMRMMMRMMRMMMMMMRMMRMRMMMRMMMMMMRMRMRMRMRRRRRMMMMRMRMRRRMMMMMMRMRRMMRMMMMRRMRMMRMMRMMRRMMMMMMMMMRRMRRMMMRMRRMRMMRMMMMMRMRMRMMRMRMRMMMMMMRMMMMMMMMMMMMMMMRMMMMRMMMMMRRMMRMMMRRMIIIIIIIIIRMMIIIIMMIIRIIMIIIIIIIIMIMRRRRRMRMMRRRDDDDMDDDDR\n",
      "MTSDCSSTHCSPESCGTASGCAPASSCSVETACLPGTCATSRCQTPSFLSRSRGLTGCLLPCYFTGSCNSPCLVGNCAWCEDGVFTSNEKETMQFLNDRLASYLEKVRSLEETNAELESRIQEQCEQDIPMVCPDYQRYFNTIEDLQQKILCTKAENSRLAVQLDNCKLATDDFKSKYESELSLRQLLEADISSLHGILEELTLCKSDLEAHVESLKEDLLCLKKNHEEEVNLLREQLGDRLSVELDTAPTLDLNRVLDEMRCQCETVLANNRREAEEWLAVQTEELNQQQLSSAEQLQGCQMEILELKRTASALEIELQAQQSLTESLECTVAETEAQYSSQLAQIQCLIDNLENQLAEIRCDLERQNQEYQVLLDVKARLEGEINTYWGLLDSEDSRL         SCS    PC  S  T        T CTSSNTCEPCSAYVICTVENCCL\n",
      "M                     PYNFCLPSLSCRT SCSSRPCVPPSC     H S CTLP    GACNIPANVSNCNWFCEGSFNGSEKETMQFLNDRLASYLEKVRQLERDNAELENLIRERSQQQEPLLCPSYQSYFKTIEELQQKILCTKSENARLVVQIDNAKLAADDFRTKYQTELSLRQLVESDINGLRRILDELTLCKSDLEAQVESLKEELLCLKSNHEQEVNTLRCQLGDRLNVEVDAAPTVDLNRVLNETRSQYEALVETNRREVEQWFTTQTEELNKQVVSSSEQLQSYQAEIIELRRTVNALEIELQAQHNLRDSLENTLTESEARYSSQLSQVQSLITNVESQLAEIRSDLERQNQEYQVLLDVRARLECEINTYRSLLESEDCNLPSNPCATTNACSKPIGPCLSNPCTSCVPPAPCTPCAPRPRCGPCNSF    V    R\n",
      "=====\n",
      "Step 1 : Match M\n",
      "Step 2 : Delete T\n",
      "Step 3 : Delete S\n",
      "Step 4 : Delete D\n",
      "Step 5 : Delete C\n",
      "Step 6 : Delete S\n",
      "Step 7 : Delete S\n",
      "Step 8 : Delete T\n",
      "Step 9 : Delete H\n",
      "Step 10 : Delete C\n",
      "Step 11 : Delete S\n",
      "Step 12 : Delete P\n",
      "Step 13 : Delete E\n",
      "Step 14 : Delete S\n",
      "Step 15 : Delete C\n",
      "Step 16 : Delete G\n",
      "Step 17 : Delete T\n",
      "Step 18 : Delete A\n",
      "Step 19 : Delete S\n",
      "Step 20 : Delete G\n",
      "Step 21 : Delete C\n",
      "Step 22 : Delete A\n",
      "Step 23 : Match P\n",
      "Step 24 : Replace A with Y\n",
      "Step 25 : Replace S with N\n",
      "Step 26 : Replace S with F\n",
      "Step 27 : Match C\n",
      "Step 28 : Replace S with L\n",
      "Step 29 : Replace V with P\n",
      "Step 30 : Replace E with S\n",
      "Step 31 : Replace T with L\n",
      "Step 32 : Replace A with S\n",
      "Step 33 : Match C\n",
      "Step 34 : Replace L with R\n",
      "Step 35 : Replace P with T\n",
      "Step 36 : Delete G\n",
      "Step 37 : Replace T with S\n",
      "Step 38 : Match C\n",
      "Step 39 : Replace A with S\n",
      "Step 40 : Replace T with S\n",
      "Step 41 : Replace S with R\n",
      "Step 42 : Replace R with P\n",
      "Step 43 : Match C\n",
      "Step 44 : Replace Q with V\n",
      "Step 45 : Replace T with P\n",
      "Step 46 : Match P\n",
      "Step 47 : Match S\n",
      "Step 48 : Replace F with C\n",
      "Step 49 : Delete L\n",
      "Step 50 : Delete S\n"
     ]
    },
    {
     "data": {
      "text/plain": [
       "1236"
      ]
     },
     "execution_count": 10,
     "metadata": {},
     "output_type": "execute_result"
    }
   ],
   "source": [
    "scoring_for_gaps(proteins['C'],proteins['D'],-12, True)"
   ]
  },
  {
   "cell_type": "code",
   "execution_count": 25,
   "id": "7ea22500",
   "metadata": {},
   "outputs": [
    {
     "data": {
      "text/plain": [
       "1312"
      ]
     },
     "execution_count": 25,
     "metadata": {},
     "output_type": "execute_result"
    }
   ],
   "source": [
    "scoring_for_alignment(proteins['C'],proteins['D'],-2, -2)"
   ]
  },
  {
   "cell_type": "code",
   "execution_count": null,
   "id": "fbf4da51",
   "metadata": {},
   "outputs": [],
   "source": []
  }
 ],
 "metadata": {
  "kernelspec": {
   "display_name": "Python 3 (ipykernel)",
   "language": "python",
   "name": "python3"
  },
  "language_info": {
   "codemirror_mode": {
    "name": "ipython",
    "version": 3
   },
   "file_extension": ".py",
   "mimetype": "text/x-python",
   "name": "python",
   "nbconvert_exporter": "python",
   "pygments_lexer": "ipython3",
   "version": "3.9.13"
  }
 },
 "nbformat": 4,
 "nbformat_minor": 5
}
